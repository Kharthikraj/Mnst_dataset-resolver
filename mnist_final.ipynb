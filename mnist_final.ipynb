{
 "cells": [
  {
   "cell_type": "code",
   "execution_count": 5,
   "metadata": {},
   "outputs": [],
   "source": [
    "import os\n",
    "import gzip\n",
    "import numpy as np\n",
    "from matplotlib import pyplot as plt\n",
    "import scipy.special \n",
    "np.random.seed(542)"
   ]
  },
  {
   "cell_type": "code",
   "execution_count": 6,
   "metadata": {},
   "outputs": [],
   "source": [
    "files = {\n",
    "    \"train_images\": \"train-images-idx3-ubyte.gz\",\n",
    "    \"train_labels\": \"train-labels-idx1-ubyte.gz\",\n",
    "    \"test_images\": \"t10k-images-idx3-ubyte.gz\",\n",
    "    \"test_labels\": \"t10k-labels-idx1-ubyte.gz\"\n",
    "}\n",
    "for file_name in files.values():\n",
    "    local_path = os.path.join('mnist_data', file_name)\n",
    "    with gzip.open(local_path) as f:\n",
    "        content = f.read()\n",
    "        if 'images' in local_path:\n",
    "            if 'train-images' in local_path:\n",
    "                train_img = np.frombuffer(content, dtype=np.uint8, offset=16)\n",
    "            else:\n",
    "                test_img = np.frombuffer(content, dtype=np.uint8, offset=16)\n",
    "        else:\n",
    "            if 'train-labels' in local_path:\n",
    "                train_label = np.frombuffer(content, dtype=np.uint8, offset=8)\n",
    "            else:\n",
    "                test_label = np.frombuffer(content, dtype=np.uint8, offset=8)\n",
    "test_img.shape = (10000, 28, 28)\n",
    "train_img.shape = (60000, 28, 28)"
   ]
  },
  {
   "cell_type": "code",
   "execution_count": 7,
   "metadata": {},
   "outputs": [
    {
     "data": {
      "image/png": "[encoded data removed]",
      "text/plain": [
       "<Figure size 640x480 with 1 Axes>"
      ]
     },
     "metadata": {},
     "output_type": "display_data"
    },
    {
     "name": "stdout",
     "output_type": "stream",
     "text": [
      "number: 7\n"
     ]
    }
   ],
   "source": [
    "\n",
    "plt.imshow(test_img[600], cmap='gray')\n",
    "plt.show()\n",
    "print('number:', test_label[551])"
   ]
  },
  {
   "cell_type": "markdown",
   "metadata": {},
   "source": [
    "NEURAL NETWORK CLASS"
   ]
  },
  {
   "cell_type": "code",
   "execution_count": 8,
   "metadata": {},
   "outputs": [],
   "source": [
    "class neuralNetwork:\n",
    "    def __init__(self, innode, hnode, onode, lr):\n",
    "        self.innode = innode\n",
    "        self.hnode = hnode\n",
    "        self.onode = onode\n",
    "        self.lr = lr\n",
    "        self.wih = np.random.normal(0.0, pow(hnode, -0.5), (hnode, innode))\n",
    "        self.who = np.random.normal(0.0, pow(onode, -0.5), (onode, hnode))\n",
    "        self.activation = lambda x: scipy.special.expit(x)\n",
    "    def train(self, i, target):\n",
    "        i = i.T\n",
    "        target = target.T\n",
    "        oh, oo = self.query(i.T)\n",
    "        error = target-oo\n",
    "        herror = np.dot(self.who.T, error)\n",
    "        self.who += self.lr*np.dot(error*oo*(1-oo), oh.T)\n",
    "        self.wih += self.lr*np.dot(herror*oh*(1-oh), i.T)\n",
    "        return self.wih, self.who\n",
    "    def query(self, i):\n",
    "        i = i.T\n",
    "        zh = np.dot(self.wih, i)\n",
    "        oh = self.activation(zh)\n",
    "        zo = np.dot(self.who, oh)\n",
    "        oo = self.activation(zo)\n",
    "        return oh, oo\n",
    "    def display(self, img):\n",
    "        plt.imshow(img, cmap='gray')\n",
    "        plt.plot()\n"
   ]
  },
  {
   "cell_type": "code",
   "execution_count": 9,
   "metadata": {},
   "outputs": [
    {
     "data": {
      "image/png": "[encoded data removed]",
      "text/plain": [
       "<Figure size 640x480 with 1 Axes>"
      ]
     },
     "metadata": {},
     "output_type": "display_data"
    }
   ],
   "source": [
    "tester = train_img[550].reshape(1, 784)\n",
    "tester.shape = (28, 28)\n",
    "plt.imshow(tester, cmap='gray')\n",
    "plt.show()"
   ]
  },
  {
   "cell_type": "markdown",
   "metadata": {},
   "source": [
    "TRAIN"
   ]
  },
  {
   "cell_type": "code",
   "execution_count": 10,
   "metadata": {},
   "outputs": [],
   "source": [
    "epoch = 2\n",
    "lrate = 0.1\n",
    "target = np.identity(10)\n",
    "n = neuralNetwork(784, 100, 10, lrate)\n",
    "for j in range(epoch):\n",
    "    for k in range(len(train_img)):\n",
    "        i = train_img[k].reshape(1, 784)/255*0.9 +0.1\n",
    "        targeti = target[train_label[k]].reshape(1, 10)\n",
    "        wih, who = n.train(i, targeti)"
   ]
  },
  {
   "cell_type": "markdown",
   "metadata": {},
   "source": [
    "QUERYING"
   ]
  },
  {
   "cell_type": "code",
   "execution_count": 11,
   "metadata": {},
   "outputs": [
    {
     "name": "stdout",
     "output_type": "stream",
     "text": [
      "Network output: 6\n",
      "True output: 5\n"
     ]
    },
    {
     "data": {
      "image/png": "[encoded data removed]",
      "text/plain": [
       "<Figure size 640x480 with 1 Axes>"
      ]
     },
     "metadata": {},
     "output_type": "display_data"
    }
   ],
   "source": [
    "j = 8\n",
    "i = test_img[j].reshape(1, 784)\n",
    "oh, oo = n.query(i)\n",
    "n.display(test_img[j])\n",
    "out = np.argmax(oo)\n",
    "real = test_label[j]\n",
    "print('Network output:', out)\n",
    "print('True output:', real)"
   ]
  },
  {
   "cell_type": "markdown",
   "metadata": {},
   "source": [
    "ACCURACY TESTING"
   ]
  },
  {
   "cell_type": "code",
   "execution_count": 12,
   "metadata": {},
   "outputs": [
    {
     "name": "stdout",
     "output_type": "stream",
     "text": [
      "Accuracy = 94.79052094790521\n"
     ]
    }
   ],
   "source": [
    "out = len(test_label)+1\n",
    "inp = len(test_label)+1\n",
    "incorrect = list()\n",
    "for j in range(len(test_label)):\n",
    "    i = test_img[j].reshape(1, 784)/255\n",
    "    oh, oo = n.query(i)\n",
    "    real = test_label[j]\n",
    "    net = np.argmax(oo)\n",
    "    if real != net:\n",
    "        incorrect.append(j)\n",
    "        out = out-1\n",
    "print('Accuracy =',(out/inp)*100)"
   ]
  },
  {
   "cell_type": "code",
   "execution_count": 13,
   "metadata": {},
   "outputs": [
    {
     "data": {
      "text/plain": [
       "521"
      ]
     },
     "execution_count": 13,
     "metadata": {},
     "output_type": "execute_result"
    }
   ],
   "source": [
    "len(incorrect)"
   ]
  },
  {
   "cell_type": "code",
   "execution_count": null,
   "metadata": {},
   "outputs": [],
   "source": []
  }
 ],
 "metadata": {
  "kernelspec": {
   "display_name": "Python 3",
   "language": "python",
   "name": "python3"
  },
  "language_info": {
   "codemirror_mode": {
    "name": "ipython",
    "version": 3
   },
   "file_extension": ".py",
   "mimetype": "text/x-python",
   "name": "python",
   "nbconvert_exporter": "python",
   "pygments_lexer": "ipython3",
   "version": "3.11.5"
  },
  "orig_nbformat": 4
 },
 "nbformat": 4,
 "nbformat_minor": 2
}
